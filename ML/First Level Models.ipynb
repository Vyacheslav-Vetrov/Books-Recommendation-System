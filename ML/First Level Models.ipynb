{
 "cells": [
  {
   "cell_type": "code",
   "execution_count": 11,
   "id": "f5a16116-bd7c-417c-9de6-aaf3a63a79f6",
   "metadata": {
    "tags": []
   },
   "outputs": [],
   "source": [
    "import pandas as pd\n",
    "from surprise import Dataset, Reader, SVD, accuracy\n",
    "from surprise.model_selection import train_test_split\n",
    "from surprise.model_selection import train_test_split, cross_validate"
   ]
  },
  {
   "cell_type": "code",
   "execution_count": 20,
   "id": "d35267e9-b2b5-43cb-a026-ff79d7d13c29",
   "metadata": {
    "tags": []
   },
   "outputs": [
    {
     "data": {
      "text/html": [
       "<div>\n",
       "<style scoped>\n",
       "    .dataframe tbody tr th:only-of-type {\n",
       "        vertical-align: middle;\n",
       "    }\n",
       "\n",
       "    .dataframe tbody tr th {\n",
       "        vertical-align: top;\n",
       "    }\n",
       "\n",
       "    .dataframe thead th {\n",
       "        text-align: right;\n",
       "    }\n",
       "</style>\n",
       "<table border=\"1\" class=\"dataframe\">\n",
       "  <thead>\n",
       "    <tr style=\"text-align: right;\">\n",
       "      <th></th>\n",
       "      <th>Unnamed: 0</th>\n",
       "      <th>User-ID</th>\n",
       "      <th>ISBN</th>\n",
       "      <th>Book-Rating</th>\n",
       "      <th>Book-Title</th>\n",
       "      <th>Book-Author</th>\n",
       "      <th>Year-Of-Publication</th>\n",
       "      <th>Publisher</th>\n",
       "      <th>Image-URL-S</th>\n",
       "      <th>Image-URL-M</th>\n",
       "      <th>Image-URL-L</th>\n",
       "      <th>Location</th>\n",
       "      <th>Age</th>\n",
       "      <th>raw_title</th>\n",
       "      <th>raw_year</th>\n",
       "      <th>categories</th>\n",
       "      <th>description</th>\n",
       "    </tr>\n",
       "  </thead>\n",
       "  <tbody>\n",
       "    <tr>\n",
       "      <th>0</th>\n",
       "      <td>8</td>\n",
       "      <td>2313</td>\n",
       "      <td>0553278223</td>\n",
       "      <td>7</td>\n",
       "      <td>The Martian Chronicles</td>\n",
       "      <td>RAY BRADBURY</td>\n",
       "      <td>1984</td>\n",
       "      <td>Spectra</td>\n",
       "      <td>http://images.amazon.com/images/P/0553278223.0...</td>\n",
       "      <td>http://images.amazon.com/images/P/0553278223.0...</td>\n",
       "      <td>http://images.amazon.com/images/P/0553278223.0...</td>\n",
       "      <td>cincinnati, ohio, usa</td>\n",
       "      <td>23.0</td>\n",
       "      <td>themartianchronicles</td>\n",
       "      <td>1970.0</td>\n",
       "      <td>['Fiction']</td>\n",
       "      <td>The tranquility of Mars is disrupted by humans...</td>\n",
       "    </tr>\n",
       "    <tr>\n",
       "      <th>1</th>\n",
       "      <td>11</td>\n",
       "      <td>2313</td>\n",
       "      <td>0295955252</td>\n",
       "      <td>8</td>\n",
       "      <td>No-No Boy</td>\n",
       "      <td>John Okada</td>\n",
       "      <td>1978</td>\n",
       "      <td>University of Washington Press</td>\n",
       "      <td>http://images.amazon.com/images/P/0295955252.0...</td>\n",
       "      <td>http://images.amazon.com/images/P/0295955252.0...</td>\n",
       "      <td>http://images.amazon.com/images/P/0295955252.0...</td>\n",
       "      <td>cincinnati, ohio, usa</td>\n",
       "      <td>23.0</td>\n",
       "      <td>nonoboy</td>\n",
       "      <td>1970.0</td>\n",
       "      <td>['Japanese']</td>\n",
       "      <td>NaN</td>\n",
       "    </tr>\n",
       "    <tr>\n",
       "      <th>2</th>\n",
       "      <td>24</td>\n",
       "      <td>2313</td>\n",
       "      <td>0553213601</td>\n",
       "      <td>0</td>\n",
       "      <td>Cyrano De Bergerac (Bantam Classics)</td>\n",
       "      <td>EDMOND ROSTAND</td>\n",
       "      <td>1950</td>\n",
       "      <td>Bantam</td>\n",
       "      <td>http://images.amazon.com/images/P/0553213601.0...</td>\n",
       "      <td>http://images.amazon.com/images/P/0553213601.0...</td>\n",
       "      <td>http://images.amazon.com/images/P/0553213601.0...</td>\n",
       "      <td>cincinnati, ohio, usa</td>\n",
       "      <td>23.0</td>\n",
       "      <td>cyranodebergeracbantamclassics</td>\n",
       "      <td>1970.0</td>\n",
       "      <td>['Drama']</td>\n",
       "      <td>Cyrano is a wonderful poet who feels ugly due ...</td>\n",
       "    </tr>\n",
       "  </tbody>\n",
       "</table>\n",
       "</div>"
      ],
      "text/plain": [
       "   Unnamed: 0  User-ID        ISBN  Book-Rating  \\\n",
       "0           8     2313  0553278223            7   \n",
       "1          11     2313  0295955252            8   \n",
       "2          24     2313  0553213601            0   \n",
       "\n",
       "                             Book-Title     Book-Author  Year-Of-Publication  \\\n",
       "0                The Martian Chronicles    RAY BRADBURY                 1984   \n",
       "1                             No-No Boy      John Okada                 1978   \n",
       "2  Cyrano De Bergerac (Bantam Classics)  EDMOND ROSTAND                 1950   \n",
       "\n",
       "                        Publisher  \\\n",
       "0                         Spectra   \n",
       "1  University of Washington Press   \n",
       "2                          Bantam   \n",
       "\n",
       "                                         Image-URL-S  \\\n",
       "0  http://images.amazon.com/images/P/0553278223.0...   \n",
       "1  http://images.amazon.com/images/P/0295955252.0...   \n",
       "2  http://images.amazon.com/images/P/0553213601.0...   \n",
       "\n",
       "                                         Image-URL-M  \\\n",
       "0  http://images.amazon.com/images/P/0553278223.0...   \n",
       "1  http://images.amazon.com/images/P/0295955252.0...   \n",
       "2  http://images.amazon.com/images/P/0553213601.0...   \n",
       "\n",
       "                                         Image-URL-L               Location  \\\n",
       "0  http://images.amazon.com/images/P/0553278223.0...  cincinnati, ohio, usa   \n",
       "1  http://images.amazon.com/images/P/0295955252.0...  cincinnati, ohio, usa   \n",
       "2  http://images.amazon.com/images/P/0553213601.0...  cincinnati, ohio, usa   \n",
       "\n",
       "    Age                       raw_title  raw_year    categories  \\\n",
       "0  23.0            themartianchronicles    1970.0   ['Fiction']   \n",
       "1  23.0                         nonoboy    1970.0  ['Japanese']   \n",
       "2  23.0  cyranodebergeracbantamclassics    1970.0     ['Drama']   \n",
       "\n",
       "                                         description  \n",
       "0  The tranquility of Mars is disrupted by humans...  \n",
       "1                                                NaN  \n",
       "2  Cyrano is a wonderful poet who feels ugly due ...  "
      ]
     },
     "execution_count": 20,
     "metadata": {},
     "output_type": "execute_result"
    }
   ],
   "source": [
    "data = pd.read_csv('data/merged_data.csv')\n",
    "data.head(3)"
   ]
  },
  {
   "cell_type": "code",
   "execution_count": 21,
   "id": "18af6524-dca0-4304-ab7a-9e8fc8515806",
   "metadata": {
    "tags": []
   },
   "outputs": [
    {
     "name": "stdout",
     "output_type": "stream",
     "text": [
      "<class 'pandas.core.frame.DataFrame'>\n",
      "RangeIndex: 192928 entries, 0 to 192927\n",
      "Data columns (total 17 columns):\n",
      " #   Column               Non-Null Count   Dtype  \n",
      "---  ------               --------------   -----  \n",
      " 0   Unnamed: 0           192928 non-null  int64  \n",
      " 1   User-ID              192928 non-null  int64  \n",
      " 2   ISBN                 192928 non-null  object \n",
      " 3   Book-Rating          192928 non-null  int64  \n",
      " 4   Book-Title           192928 non-null  object \n",
      " 5   Book-Author          192928 non-null  object \n",
      " 6   Year-Of-Publication  192928 non-null  int64  \n",
      " 7   Publisher            192927 non-null  object \n",
      " 8   Image-URL-S          192928 non-null  object \n",
      " 9   Image-URL-M          192928 non-null  object \n",
      " 10  Image-URL-L          192928 non-null  object \n",
      " 11  Location             192928 non-null  object \n",
      " 12  Age                  139369 non-null  float64\n",
      " 13  raw_title            192928 non-null  object \n",
      " 14  raw_year             192793 non-null  float64\n",
      " 15  categories           192928 non-null  object \n",
      " 16  description          185773 non-null  object \n",
      "dtypes: float64(2), int64(4), object(11)\n",
      "memory usage: 25.0+ MB\n"
     ]
    }
   ],
   "source": [
    "data.info()"
   ]
  },
  {
   "cell_type": "code",
   "execution_count": 22,
   "id": "2095fa76-9b1e-4a30-b022-ba1e3d46c71d",
   "metadata": {
    "tags": []
   },
   "outputs": [
    {
     "data": {
      "text/plain": [
       "User-ID        0\n",
       "ISBN           0\n",
       "Book-Rating    0\n",
       "dtype: int64"
      ]
     },
     "execution_count": 22,
     "metadata": {},
     "output_type": "execute_result"
    }
   ],
   "source": [
    "data[['User-ID', 'ISBN', 'Book-Rating']].isnull().sum()"
   ]
  },
  {
   "cell_type": "code",
   "execution_count": 26,
   "id": "ed3f4c17-99c4-47ec-976b-e01a634a26b9",
   "metadata": {
    "tags": []
   },
   "outputs": [
    {
     "data": {
      "text/plain": [
       "Book-Rating\n",
       "0     62.709923\n",
       "1      0.117142\n",
       "2      0.218216\n",
       "3      0.460794\n",
       "4      0.726178\n",
       "5      4.071467\n",
       "6      2.894344\n",
       "7      6.352111\n",
       "8      9.176999\n",
       "9      6.199722\n",
       "10     7.073105\n",
       "Name: proportion, dtype: float64"
      ]
     },
     "execution_count": 26,
     "metadata": {},
     "output_type": "execute_result"
    }
   ],
   "source": [
    "data['Book-Rating'].value_counts(normalize=True).mul(100).sort_index()"
   ]
  },
  {
   "cell_type": "code",
   "execution_count": 24,
   "id": "5cabcaed-61d9-46b4-b8fa-289d2a416a9c",
   "metadata": {
    "tags": []
   },
   "outputs": [],
   "source": [
    "filtered_data = data[data['Book-Rating'] != 0]"
   ]
  },
  {
   "cell_type": "code",
   "execution_count": 30,
   "id": "79427529-e03d-47d8-a84e-99a519089e71",
   "metadata": {
    "tags": []
   },
   "outputs": [],
   "source": [
    "# 1. Collaborative Filtering\n",
    "reader = Reader(rating_scale=(1, 10))\n",
    "surpise_data = Dataset.load_from_df(filtered_data[['User-ID', 'ISBN', 'Book-Rating']], reader)\n",
    "trainset, testset = train_test_split(surpise_data, test_size=0.2)"
   ]
  },
  {
   "cell_type": "code",
   "execution_count": 31,
   "id": "09583830-51a9-467f-ad09-9c37e08f152c",
   "metadata": {
    "tags": []
   },
   "outputs": [],
   "source": [
    "svd = SVD()\n",
    "svd.fit(trainset)\n",
    "predictions_svd = svd.test(testset)"
   ]
  },
  {
   "cell_type": "code",
   "execution_count": 32,
   "id": "ec93e9c2-25e1-4dff-b7ae-d775fac49501",
   "metadata": {
    "tags": []
   },
   "outputs": [
    {
     "name": "stdout",
     "output_type": "stream",
     "text": [
      "Evaluating RMSE, MAE of algorithm SVD on 5 split(s).\n",
      "\n",
      "                  Fold 1  Fold 2  Fold 3  Fold 4  Fold 5  Mean    Std     \n",
      "RMSE (testset)    1.6420  1.6446  1.6552  1.6341  1.6550  1.6462  0.0081  \n",
      "MAE (testset)     1.2716  1.2723  1.2805  1.2739  1.2833  1.2763  0.0047  \n",
      "Fit time          1.29    1.08    1.20    1.16    1.29    1.21    0.08    \n",
      "Test time         0.09    0.08    0.09    0.09    0.10    0.09    0.01    \n"
     ]
    }
   ],
   "source": [
    "cv_results = cross_validate(svd, surpise_data, measures=['RMSE', 'MAE'], cv=5, verbose=True)"
   ]
  },
  {
   "cell_type": "code",
   "execution_count": null,
   "id": "51b98025-8a87-4c1b-a33b-3afae1073d6e",
   "metadata": {},
   "outputs": [],
   "source": []
  }
 ],
 "metadata": {
  "kernelspec": {
   "display_name": "Python 3 (ipykernel)",
   "language": "python",
   "name": "python3"
  },
  "language_info": {
   "codemirror_mode": {
    "name": "ipython",
    "version": 3
   },
   "file_extension": ".py",
   "mimetype": "text/x-python",
   "name": "python",
   "nbconvert_exporter": "python",
   "pygments_lexer": "ipython3",
   "version": "3.9.18"
  }
 },
 "nbformat": 4,
 "nbformat_minor": 5
}
